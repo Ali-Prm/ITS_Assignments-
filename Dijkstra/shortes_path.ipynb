{
 "cells": [
  {
   "cell_type": "code",
   "execution_count": 1,
   "id": "cc2ccd3c-3482-4d14-97f6-81ed2828947d",
   "metadata": {},
   "outputs": [
    {
     "name": "stdout",
     "output_type": "stream",
     "text": [
      "The history saving thread hit an unexpected error (DatabaseError('database disk image is malformed')).History will not be written to the database.\n"
     ]
    }
   ],
   "source": [
    "import numpy as np \n",
    "import pandas as pd \n",
    "import time \n",
    "import heapq"
   ]
  },
  {
   "cell_type": "code",
   "execution_count": 2,
   "id": "e36b4d5b-c2a5-4da1-8068-1d2f5b21b68b",
   "metadata": {},
   "outputs": [],
   "source": [
    "network = pd.read_csv('Network.csv')"
   ]
  },
  {
   "cell_type": "code",
   "execution_count": 3,
   "id": "39c99230-d1c6-47d4-9eaa-9075c10e7bb8",
   "metadata": {},
   "outputs": [],
   "source": [
    "starting_node = np.unique(network['FromNodeId'].values).tolist() #starting nodes\n",
    "ending_node = np.unique(network['ToNodeId'].values).tolist() #ending nodes"
   ]
  },
  {
   "cell_type": "code",
   "execution_count": 4,
   "id": "3fbeae89-887b-4b33-9cef-787ff473a404",
   "metadata": {},
   "outputs": [],
   "source": [
    "# list of all nodes in graph\n",
    "all_nodes_id = list(set(starting_node) | set(ending_node))"
   ]
  },
  {
   "cell_type": "markdown",
   "id": "bf47c529-223f-4f35-9d82-fe1bef619b23",
   "metadata": {},
   "source": [
    "## 1.Implemnting Dijkstra Algorithm"
   ]
  },
  {
   "cell_type": "code",
   "execution_count": 6,
   "id": "cbcee379-6b7d-4856-b2cd-f6c46e28621a",
   "metadata": {},
   "outputs": [],
   "source": [
    "# defininf graph as adjacency list which also contains travel time\n",
    "graph = {}\n",
    "for i in all_nodes_id:\n",
    "    adj_node = np.array(network[network['FromNodeId']==i].ToNodeId.values).tolist()\n",
    "    travel_time_adj_node = np.array(network[network['FromNodeId']==i].TravelTime.values).tolist()\n",
    "    adj_node_travel_time = {key:value for key,value in zip(adj_node,travel_time_adj_node)}\n",
    "    graph[i] = adj_node_travel_time"
   ]
  },
  {
   "cell_type": "code",
   "execution_count": 7,
   "id": "737a336d-cf0b-470d-a2a2-1a3b6f98a444",
   "metadata": {},
   "outputs": [],
   "source": [
    "def dijkstra(graph, Source, Sink):\n",
    "    \n",
    "    distances = {vertex: float('infinity') for vertex in graph}  # distance from source node to each node\n",
    "    # Initialization : distance from every node sets to infinity\n",
    "    parent = {vertex: None for vertex in graph} # parent of each node in shortest path \n",
    "    # Initialization : parent of each node sets to None(NIL)\n",
    "    \n",
    "    \n",
    "    distances[Source] = 0  # setting the distance for source node to 0 \n",
    "    parent[Source] = None # setting the parent of source node to None(NIL)\n",
    "\n",
    "    # Using priority queue for determining next node to get processed in each step \n",
    "    # For implementing the priority queue i use built-in heapq class\n",
    "    # This class is based on Min-Heap data structue which is type of binary trees\n",
    "    # The priority queue contains an object with its priority as integer value...\n",
    "    ## In this algorithm nodes are object and their priority are their current distance estimation\n",
    "    # At each step the nodes with the highest priority in queue(lowest distance value) get processed and leaves the priority queue\n",
    "    # At each step nodes are added to priority queue and they sort based on their distance value in ascending order\n",
    "    # Using this priority queue will dramarically decrease the running time of the algorithm\n",
    "    # At the beginning of algorithm only the source node is in priority queue\n",
    "    # we add nodes in form of tuple into the priority queue\n",
    "    # the first element is the priority and the second element is node itself\n",
    "    pq = [(0, Source)] \n",
    "    \n",
    "    # The algorithm keeps visiting nodes until there's no node to visit \n",
    "    while len(pq) > 0:\n",
    "        \n",
    "        # As i said before in each step we visit the node based on their priority \n",
    "        # The current vertex is the node with lowest distance value \n",
    "        current_distance, current_vertex = heapq.heappop(pq)\n",
    "        \n",
    "        # If the visiting node is sink node, it means we already find the shortest path to sink node\n",
    "        if current_vertex == Sink :\n",
    "            break\n",
    "\n",
    "        # Nodes can get added to the priority queue multiple times \n",
    "        # we only process a node the first time we remove it from the priority queue.\n",
    "        if current_distance > distances[current_vertex]:\n",
    "            continue\n",
    "            \n",
    "        # for each visiting node we consider its neighboring node \n",
    "        # to perform relax operation alongside its outgoing edges\n",
    "        for neighbor, weight in graph[current_vertex].items():\n",
    "            distance = current_distance + weight\n",
    "\n",
    "            # Performing relax operation\n",
    "            if distance < distances[neighbor]:\n",
    "                distances[neighbor] = distance\n",
    "                parent[neighbor] = current_vertex\n",
    "                # adding the neighboring node to the priority queue\n",
    "                heapq.heappush(pq, (distance, neighbor))\n",
    "                \n",
    "    # affter finding shortest path to sink node, we keep back tracking the parent nodes in shortest path\n",
    "    path = []\n",
    "    node = Sink\n",
    "    \n",
    "    while node != Source:\n",
    "        path.append(node)\n",
    "        node = parent[node]\n",
    "        \n",
    "    path.append(Source)\n",
    "    path = path[::-1]\n",
    "\n",
    "    return distances[Sink], path\n"
   ]
  },
  {
   "cell_type": "code",
   "execution_count": 8,
   "id": "31090fe6-89b5-4b9d-9f35-698f8671cce2",
   "metadata": {},
   "outputs": [],
   "source": [
    "source = 2148\n",
    "sink = 10123"
   ]
  },
  {
   "cell_type": "code",
   "execution_count": 11,
   "id": "a5332cca-7778-4bb6-81d5-b7013aadcc0c",
   "metadata": {},
   "outputs": [
    {
     "name": "stdout",
     "output_type": "stream",
     "text": [
      "0.20184755325317383\n"
     ]
    }
   ],
   "source": [
    "start = time.time()\n",
    " \n",
    "cost, path = dijkstra(graph,source,sink)\n",
    "\n",
    "end = time.time()\n",
    "print(end-start)"
   ]
  },
  {
   "cell_type": "code",
   "execution_count": 12,
   "id": "1e3203aa-38a0-43a9-a243-e901b139b871",
   "metadata": {},
   "outputs": [
    {
     "data": {
      "text/plain": [
       "22738"
      ]
     },
     "execution_count": 12,
     "metadata": {},
     "output_type": "execute_result"
    }
   ],
   "source": [
    "cost"
   ]
  },
  {
   "cell_type": "code",
   "execution_count": 16,
   "id": "71b98107-5d78-4059-b762-6cc96fe2cd15",
   "metadata": {},
   "outputs": [
    {
     "name": "stdout",
     "output_type": "stream",
     "text": [
      "[2148, 1964, 2256, 1969, 1990, 1989, 1995, 1910, 2168, 2171, 2170, 2176, 2252, 2302, 2430, 2615, 2616, 2204, 2203, 2209, 2208, 2207, 2216, 2321, 2456, 2109, 2108, 2127, 2228, 2564, 2144, 2563, 2641, 5078, 3978, 3976, 3799, 3845, 3997, 5676, 4070, 3902, 3918, 3925, 1953, 7279, 7131, 7295, 7293, 7143, 7154, 7298, 7297, 7303, 7306, 7184, 7185, 7187, 7776, 7761, 7135, 7361, 8040, 7737, 7955, 7717, 7953, 7950, 7951, 8068, 7750, 11199, 9461, 9462, 7798, 7797, 7811, 7816, 7817, 7979, 464, 7998, 8018, 9906, 9905, 9903, 9902, 9900, 9899, 9898, 9985, 9984, 10071, 9910, 10080, 10077, 10279, 10204, 10116, 10203, 10201, 10200, 10197, 10193, 10206, 10123]\n"
     ]
    }
   ],
   "source": [
    "print(path,sep='')"
   ]
  },
  {
   "cell_type": "markdown",
   "id": "bff3dbd8-9cf8-4c77-8bf8-7b5435896d14",
   "metadata": {},
   "source": [
    "## 2.Incremental assignment"
   ]
  },
  {
   "cell_type": "code",
   "execution_count": 19,
   "id": "a898278c-8f7d-45fa-94c6-7c2dac4633dd",
   "metadata": {},
   "outputs": [],
   "source": [
    "# In each step we update this data and we add flow column to it \n",
    "data = network.copy()"
   ]
  },
  {
   "cell_type": "code",
   "execution_count": 20,
   "id": "bb6a74f9-1ce4-447e-aedd-39148e83a022",
   "metadata": {},
   "outputs": [],
   "source": [
    "data['flow'] = 0"
   ]
  },
  {
   "cell_type": "code",
   "execution_count": 21,
   "id": "41b06768-ca57-4b36-a307-e88f3392543d",
   "metadata": {},
   "outputs": [
    {
     "data": {
      "text/html": [
       "<div>\n",
       "<style scoped>\n",
       "    .dataframe tbody tr th:only-of-type {\n",
       "        vertical-align: middle;\n",
       "    }\n",
       "\n",
       "    .dataframe tbody tr th {\n",
       "        vertical-align: top;\n",
       "    }\n",
       "\n",
       "    .dataframe thead th {\n",
       "        text-align: right;\n",
       "    }\n",
       "</style>\n",
       "<table border=\"1\" class=\"dataframe\">\n",
       "  <thead>\n",
       "    <tr style=\"text-align: right;\">\n",
       "      <th></th>\n",
       "      <th>FromNodeId</th>\n",
       "      <th>ToNodeId</th>\n",
       "      <th>TravelTime</th>\n",
       "      <th>flow</th>\n",
       "    </tr>\n",
       "  </thead>\n",
       "  <tbody>\n",
       "    <tr>\n",
       "      <th>0</th>\n",
       "      <td>0</td>\n",
       "      <td>1</td>\n",
       "      <td>376</td>\n",
       "      <td>0</td>\n",
       "    </tr>\n",
       "    <tr>\n",
       "      <th>1</th>\n",
       "      <td>0</td>\n",
       "      <td>2</td>\n",
       "      <td>486</td>\n",
       "      <td>0</td>\n",
       "    </tr>\n",
       "    <tr>\n",
       "      <th>2</th>\n",
       "      <td>0</td>\n",
       "      <td>29</td>\n",
       "      <td>401</td>\n",
       "      <td>0</td>\n",
       "    </tr>\n",
       "  </tbody>\n",
       "</table>\n",
       "</div>"
      ],
      "text/plain": [
       "   FromNodeId  ToNodeId  TravelTime  flow\n",
       "0           0         1         376     0\n",
       "1           0         2         486     0\n",
       "2           0        29         401     0"
      ]
     },
     "execution_count": 21,
     "metadata": {},
     "output_type": "execute_result"
    }
   ],
   "source": [
    "data.head(3)"
   ]
  },
  {
   "cell_type": "code",
   "execution_count": 22,
   "id": "db6eba5f-a77a-42c4-a99e-f426b26ab738",
   "metadata": {},
   "outputs": [],
   "source": [
    "## a function which updates travel and it consider flow capacity on edges\n",
    "def update_tarvel_time(u, v, flow):\n",
    "    t_ff = int(network[(network['FromNodeId']==u) & (network['ToNodeId']==v)].TravelTime.values)\n",
    "    if flow >= 4000:\n",
    "        updated_travel_time = float('infinity')\n",
    "    else:\n",
    "        updated_travel_time = t_ff*(1 + 0.3*((flow/4000)**2))\n",
    "        \n",
    "    return updated_travel_time"
   ]
  },
  {
   "cell_type": "code",
   "execution_count": 23,
   "id": "5fe03cff-4ff5-4512-aab8-e9b049dd2d7f",
   "metadata": {},
   "outputs": [],
   "source": [
    "## a function which creates a graph from dataframe\n",
    "def new_graph(df):\n",
    "    graph = {}\n",
    "    for i in all_nodes_id:\n",
    "        adj_node = np.array(df[df['FromNodeId']==i].ToNodeId.values).tolist()\n",
    "        travel_time_adj_node = np.array(df[df['FromNodeId']==i].TravelTime.values).tolist()\n",
    "        adj_node_travel_time = {key:value for key,value in zip(adj_node,travel_time_adj_node)}\n",
    "        graph[i] = adj_node_travel_time\n",
    "    \n",
    "    return graph"
   ]
  },
  {
   "cell_type": "code",
   "execution_count": 24,
   "id": "ab838581-4cf2-4b9f-a876-c2eebbaf32c2",
   "metadata": {},
   "outputs": [],
   "source": [
    "# a function that will update graph and data at each step given a path and increment\n",
    "\n",
    "def update_graph(path, data, increment=1000):\n",
    "    \n",
    "    current_path = [[i,j] for i,j in zip(path[:-1], path[1:])]\n",
    "    for edge in current_path :\n",
    "        u = edge[0]\n",
    "        v = edge[1]\n",
    "\n",
    "        data.loc[(data['FromNodeId']==u) & (data['ToNodeId']==v), 'flow'] += increment\n",
    "        flow = int(data[(data['FromNodeId']==u) & (data['ToNodeId']==v)].flow.values)\n",
    "        data.loc[(data['FromNodeId']==u) & (data['ToNodeId']==v), 'TravelTime'] = update_tarvel_time(u=u, v=v, flow=flow)\n",
    "    \n",
    "    return new_graph(df=data),data"
   ]
  },
  {
   "cell_type": "markdown",
   "id": "464e4fd8-d584-42d2-8e66-5e23812fc65b",
   "metadata": {},
   "source": [
    "### Step 1. Finding the shortest path for assinging first 1000 vehicles"
   ]
  },
  {
   "cell_type": "code",
   "execution_count": 25,
   "id": "05c5ca03-0942-4430-b33f-1e37a045db31",
   "metadata": {},
   "outputs": [],
   "source": [
    "cost1, path1 = dijkstra(graph,source,sink)"
   ]
  },
  {
   "cell_type": "code",
   "execution_count": 26,
   "id": "b9ebbf97-9020-4af3-b4f1-4f775babaf0f",
   "metadata": {},
   "outputs": [
    {
     "data": {
      "text/plain": [
       "22738"
      ]
     },
     "execution_count": 26,
     "metadata": {},
     "output_type": "execute_result"
    }
   ],
   "source": [
    "cost1"
   ]
  },
  {
   "cell_type": "code",
   "execution_count": 27,
   "id": "6017b506-3d87-4e0b-a56f-bdebae098c20",
   "metadata": {},
   "outputs": [
    {
     "name": "stdout",
     "output_type": "stream",
     "text": [
      "[2148, 1964, 2256, 1969, 1990, 1989, 1995, 1910, 2168, 2171, 2170, 2176, 2252, 2302, 2430, 2615, 2616, 2204, 2203, 2209, 2208, 2207, 2216, 2321, 2456, 2109, 2108, 2127, 2228, 2564, 2144, 2563, 2641, 5078, 3978, 3976, 3799, 3845, 3997, 5676, 4070, 3902, 3918, 3925, 1953, 7279, 7131, 7295, 7293, 7143, 7154, 7298, 7297, 7303, 7306, 7184, 7185, 7187, 7776, 7761, 7135, 7361, 8040, 7737, 7955, 7717, 7953, 7950, 7951, 8068, 7750, 11199, 9461, 9462, 7798, 7797, 7811, 7816, 7817, 7979, 464, 7998, 8018, 9906, 9905, 9903, 9902, 9900, 9899, 9898, 9985, 9984, 10071, 9910, 10080, 10077, 10279, 10204, 10116, 10203, 10201, 10200, 10197, 10193, 10206, 10123]\n"
     ]
    }
   ],
   "source": [
    "print(path1,sep='')"
   ]
  },
  {
   "cell_type": "code",
   "execution_count": 28,
   "id": "2ecadd3f-ea18-4964-b655-34a871b1a5ee",
   "metadata": {},
   "outputs": [
    {
     "data": {
      "text/plain": [
       "106"
      ]
     },
     "execution_count": 28,
     "metadata": {},
     "output_type": "execute_result"
    }
   ],
   "source": [
    "len(path1)"
   ]
  },
  {
   "cell_type": "code",
   "execution_count": 29,
   "id": "4d5adefa-7967-4e86-be7d-63bfc6fed0c7",
   "metadata": {},
   "outputs": [],
   "source": [
    "graph1, data = update_graph(path=path1, data=data, increment=1000)"
   ]
  },
  {
   "cell_type": "markdown",
   "id": "1c376732-438f-4942-afaf-7cd1a0af7f0a",
   "metadata": {},
   "source": [
    "### Step 2. Finding the shortest path for assinging the second 1000 vehicles"
   ]
  },
  {
   "cell_type": "code",
   "execution_count": 34,
   "id": "2d1c0799-db68-414d-9560-28eda653d61d",
   "metadata": {},
   "outputs": [],
   "source": [
    "cost2, path2 = dijkstra(graph1,source,sink)"
   ]
  },
  {
   "cell_type": "code",
   "execution_count": 35,
   "id": "53816587-7663-48d5-bb36-07490d0e30dc",
   "metadata": {},
   "outputs": [
    {
     "data": {
      "text/plain": [
       "23124.825"
      ]
     },
     "execution_count": 35,
     "metadata": {},
     "output_type": "execute_result"
    }
   ],
   "source": [
    "cost2"
   ]
  },
  {
   "cell_type": "code",
   "execution_count": 36,
   "id": "d3bc90bf-f094-4bcd-a04f-b5fc7282c4eb",
   "metadata": {},
   "outputs": [
    {
     "name": "stdout",
     "output_type": "stream",
     "text": [
      "[2148, 1964, 2256, 1969, 1990, 1989, 1995, 1910, 2168, 2171, 2170, 2176, 2252, 2302, 2430, 2615, 2616, 2450, 2657, 2621, 2618, 2619, 2528, 2526, 2527, 2645, 2642, 5068, 4188, 5076, 4244, 4243, 5129, 5128, 5132, 3841, 5159, 5157, 4037, 4035, 4074, 3929, 3928, 3930, 7127, 7297, 7303, 7306, 7184, 7185, 7187, 7776, 7761, 7135, 7361, 8040, 7737, 7955, 7717, 7953, 7950, 7951, 8068, 7750, 11199, 9461, 9462, 7798, 7797, 7811, 7816, 7817, 7979, 464, 7998, 8018, 9906, 9905, 9903, 9902, 9900, 9899, 9898, 9985, 9984, 10071, 9910, 10080, 10077, 10279, 10204, 10116, 10203, 10201, 10200, 10197, 10193, 10206, 10123]\n"
     ]
    }
   ],
   "source": [
    "print(path2,sep='')"
   ]
  },
  {
   "cell_type": "code",
   "execution_count": 37,
   "id": "03707a97-f126-43b4-ab27-631f6c6d033f",
   "metadata": {},
   "outputs": [
    {
     "data": {
      "text/plain": [
       "99"
      ]
     },
     "execution_count": 37,
     "metadata": {},
     "output_type": "execute_result"
    }
   ],
   "source": [
    "len(path2)"
   ]
  },
  {
   "cell_type": "code",
   "execution_count": 38,
   "id": "96335cfd-326d-4f7b-a4dd-4a84a0f1fc97",
   "metadata": {},
   "outputs": [],
   "source": [
    "graph2, data = update_graph(path=path2, data=data, increment=1000)"
   ]
  },
  {
   "cell_type": "code",
   "execution_count": 39,
   "id": "3ea018dc-8f9a-422b-83b0-64084b61758e",
   "metadata": {},
   "outputs": [
    {
     "data": {
      "text/plain": [
       "0       270430\n",
       "2000        69\n",
       "1000        65\n",
       "Name: flow, dtype: int64"
      ]
     },
     "execution_count": 39,
     "metadata": {},
     "output_type": "execute_result"
    }
   ],
   "source": [
    "data['flow'].value_counts()"
   ]
  },
  {
   "cell_type": "markdown",
   "id": "a861b8e4-372e-49c7-ab15-a66b9defbff3",
   "metadata": {},
   "source": [
    "### Step 3. Finding the shortest path for assinging the third 1000 vehicles"
   ]
  },
  {
   "cell_type": "code",
   "execution_count": 79,
   "id": "f4d59532-05aa-4013-9a98-002800bd5b31",
   "metadata": {},
   "outputs": [],
   "source": [
    "cost3, path3 = dijkstra(graph2,source,sink)"
   ]
  },
  {
   "cell_type": "code",
   "execution_count": 80,
   "id": "5ebaa3a1-bb5a-4749-a18c-68a7ccbfddbb",
   "metadata": {},
   "outputs": [
    {
     "data": {
      "text/plain": [
       "23914.718749999996"
      ]
     },
     "execution_count": 80,
     "metadata": {},
     "output_type": "execute_result"
    }
   ],
   "source": [
    "cost3"
   ]
  },
  {
   "cell_type": "code",
   "execution_count": 42,
   "id": "db52e034-8d53-4ed0-a1bd-9ae02c4b4095",
   "metadata": {},
   "outputs": [
    {
     "name": "stdout",
     "output_type": "stream",
     "text": [
      "[2148, 1964, 2256, 1969, 1990, 1989, 1995, 1910, 2178, 2181, 2183, 2185, 1794, 2201, 2067, 2200, 2215, 2226, 2117, 2116, 2111, 2129, 2229, 2134, 2127, 2228, 2564, 2144, 2563, 2641, 5078, 3978, 3976, 3799, 3845, 3997, 5676, 4070, 3902, 3918, 3925, 1953, 7279, 7131, 7295, 7293, 7143, 7154, 7298, 7297, 7303, 7306, 7184, 7185, 7187, 7776, 7761, 7135, 7361, 8040, 7737, 7955, 7717, 7953, 7950, 7951, 8068, 7750, 11199, 8232, 8233, 7799, 7797, 7811, 7816, 7817, 7979, 464, 7998, 8018, 9906, 9905, 9903, 9902, 9900, 9899, 9898, 9985, 9984, 10071, 9910, 10080, 10077, 10279, 10204, 10116, 10203, 10201, 10200, 10197, 10193, 10206, 10123]\n"
     ]
    }
   ],
   "source": [
    "print(path3,sep='')"
   ]
  },
  {
   "cell_type": "code",
   "execution_count": 43,
   "id": "1027834f-e9e6-40e8-a85b-4d9acf2353e5",
   "metadata": {},
   "outputs": [
    {
     "data": {
      "text/plain": [
       "103"
      ]
     },
     "execution_count": 43,
     "metadata": {},
     "output_type": "execute_result"
    }
   ],
   "source": [
    "len(path3)"
   ]
  },
  {
   "cell_type": "code",
   "execution_count": 44,
   "id": "afe7edf2-a836-48d6-9a22-911461203326",
   "metadata": {},
   "outputs": [],
   "source": [
    "graph3, data = update_graph(path=path3, data=data, increment=1000)"
   ]
  },
  {
   "cell_type": "code",
   "execution_count": 45,
   "id": "f5a39276-9340-4b4d-baa9-4e7a7d38815b",
   "metadata": {},
   "outputs": [
    {
     "data": {
      "text/plain": [
       "0       270409\n",
       "1000        61\n",
       "3000        56\n",
       "2000        38\n",
       "Name: flow, dtype: int64"
      ]
     },
     "execution_count": 45,
     "metadata": {},
     "output_type": "execute_result"
    }
   ],
   "source": [
    "data['flow'].value_counts()"
   ]
  },
  {
   "cell_type": "markdown",
   "id": "c0bd68eb-90ec-412c-8cb1-c9507bdce114",
   "metadata": {},
   "source": [
    "### Step 4. Finding the shortest path for assinging the fourth 1000 vehicles"
   ]
  },
  {
   "cell_type": "code",
   "execution_count": 47,
   "id": "60f9164b-6015-404d-99bc-94fec8ccb0e2",
   "metadata": {},
   "outputs": [],
   "source": [
    "cost4, path4 = dijkstra(graph3,source,sink)"
   ]
  },
  {
   "cell_type": "code",
   "execution_count": 48,
   "id": "56205082-07f1-4fb7-bd4c-cb0174a0cb24",
   "metadata": {},
   "outputs": [
    {
     "data": {
      "text/plain": [
       "25138.949999999997"
      ]
     },
     "execution_count": 48,
     "metadata": {},
     "output_type": "execute_result"
    }
   ],
   "source": [
    "cost4"
   ]
  },
  {
   "cell_type": "code",
   "execution_count": 49,
   "id": "844c0fe3-3947-414a-8d37-982f7737392b",
   "metadata": {},
   "outputs": [
    {
     "name": "stdout",
     "output_type": "stream",
     "text": [
      "[2148, 1964, 2256, 1969, 1990, 1989, 1995, 1910, 1909, 1911, 2171, 2170, 2176, 2252, 2302, 2430, 2615, 2616, 2450, 2657, 2621, 2618, 2619, 2528, 2526, 2549, 2551, 5068, 4188, 5076, 4244, 4243, 5129, 5128, 5132, 3841, 5159, 5157, 4037, 4035, 4074, 3929, 3928, 3930, 7127, 7297, 7303, 7306, 7184, 7185, 7187, 7776, 7761, 7135, 7361, 8040, 7737, 7955, 7717, 7952, 8132, 8129, 8130, 8068, 7750, 11199, 8232, 8233, 7799, 7812, 7811, 7816, 7817, 7979, 464, 7998, 8018, 9906, 9905, 9903, 9902, 9916, 9818, 9817, 9815, 9833, 9838, 9845, 9844, 9929, 10214, 10210, 10212, 10203, 10201, 10200, 10197, 10193, 10206, 10123]\n"
     ]
    }
   ],
   "source": [
    "print(path4,sep='')"
   ]
  },
  {
   "cell_type": "code",
   "execution_count": 50,
   "id": "39fddb88-6032-4dcf-be67-a97cfb3a4c23",
   "metadata": {},
   "outputs": [
    {
     "data": {
      "text/plain": [
       "100"
      ]
     },
     "execution_count": 50,
     "metadata": {},
     "output_type": "execute_result"
    }
   ],
   "source": [
    "len(path4)"
   ]
  },
  {
   "cell_type": "code",
   "execution_count": 51,
   "id": "ebff0955-9ebc-47c0-b28c-4414af4c5a07",
   "metadata": {},
   "outputs": [],
   "source": [
    "graph4, data = update_graph(path=path4, data=data, increment=1000)"
   ]
  },
  {
   "cell_type": "code",
   "execution_count": 52,
   "id": "675cfa30-e661-4988-b629-104e6f54023e",
   "metadata": {},
   "outputs": [
    {
     "data": {
      "text/plain": [
       "0       270383\n",
       "1000        59\n",
       "2000        59\n",
       "4000        38\n",
       "3000        25\n",
       "Name: flow, dtype: int64"
      ]
     },
     "execution_count": 52,
     "metadata": {},
     "output_type": "execute_result"
    }
   ],
   "source": [
    "data['flow'].value_counts()"
   ]
  },
  {
   "cell_type": "markdown",
   "id": "28c9cad4-3805-4898-aefb-dfedb8f28768",
   "metadata": {},
   "source": [
    "### Step 5. Finding the shortest path for assinging the fifth 1000 vehicles"
   ]
  },
  {
   "cell_type": "code",
   "execution_count": 53,
   "id": "a12c2e58-39a7-45da-8356-794b6635ee48",
   "metadata": {},
   "outputs": [],
   "source": [
    "cost5, path5 = dijkstra(graph4,source,sink)"
   ]
  },
  {
   "cell_type": "code",
   "execution_count": 54,
   "id": "51ba5936-34dc-47f3-a85c-5833821ab56c",
   "metadata": {},
   "outputs": [
    {
     "data": {
      "text/plain": [
       "26113.0"
      ]
     },
     "execution_count": 54,
     "metadata": {},
     "output_type": "execute_result"
    }
   ],
   "source": [
    "cost5"
   ]
  },
  {
   "cell_type": "code",
   "execution_count": 55,
   "id": "40ad2f3e-5980-4341-bdfa-18caab825302",
   "metadata": {},
   "outputs": [
    {
     "name": "stdout",
     "output_type": "stream",
     "text": [
      "[2148, 2150, 788, 655, 654, 737, 2573, 2576, 1917, 2325, 2587, 2584, 10761, 3444, 2667, 2668, 2672, 2397, 2596, 2374, 2373, 2389, 2427, 2712, 11142, 12059, 2603, 2601, 3021, 3030, 3029, 3035, 3039, 3050, 3052, 1343, 2934, 2931, 3118, 3064, 3065, 5766, 5769, 6392, 6400, 6404, 6417, 6493, 6433, 6494, 6495, 6453, 6497, 6499, 6459, 6728, 6242, 6241, 8397, 8449, 8448, 8486, 8485, 8491, 8812, 8513, 8511, 8512, 10903, 8568, 8566, 8589, 8606, 8605, 8607, 8612, 8637, 8638, 8636, 8658, 8667, 8668, 8684, 8908, 8909, 8907, 8911, 8724, 8723, 8725, 8726, 8761, 8941, 9189, 8978, 8977, 8805, 10235, 10234, 10238, 10178, 10199, 10094, 10102, 10195, 10124, 10123]\n"
     ]
    }
   ],
   "source": [
    "print(path5,sep='')"
   ]
  },
  {
   "cell_type": "code",
   "execution_count": 56,
   "id": "5e6b68c6-6ff1-4044-86fe-aed560c1fb6c",
   "metadata": {},
   "outputs": [
    {
     "data": {
      "text/plain": [
       "107"
      ]
     },
     "execution_count": 56,
     "metadata": {},
     "output_type": "execute_result"
    }
   ],
   "source": [
    "len(path5)"
   ]
  },
  {
   "cell_type": "code",
   "execution_count": 57,
   "id": "e4cac49f-7ac0-4610-b59d-d6f9f0d10930",
   "metadata": {},
   "outputs": [],
   "source": [
    "graph5, data = update_graph(path=path5, data=data, increment=1000)"
   ]
  },
  {
   "cell_type": "code",
   "execution_count": 58,
   "id": "dc10ccf6-23a0-4bba-b879-4a22dbf78d11",
   "metadata": {},
   "outputs": [
    {
     "data": {
      "text/plain": [
       "0       270277\n",
       "1000       165\n",
       "2000        59\n",
       "4000        38\n",
       "3000        25\n",
       "Name: flow, dtype: int64"
      ]
     },
     "execution_count": 58,
     "metadata": {},
     "output_type": "execute_result"
    }
   ],
   "source": [
    "data['flow'].value_counts()"
   ]
  },
  {
   "cell_type": "markdown",
   "id": "119243b3-d688-4a83-8a3b-9073d0c0df56",
   "metadata": {},
   "source": [
    "### Step 6. Finding the shortest path for assinging the sixth 1000 vehicles"
   ]
  },
  {
   "cell_type": "code",
   "execution_count": 60,
   "id": "78c80ea5-3975-48d0-abb9-d2471709dabf",
   "metadata": {},
   "outputs": [],
   "source": [
    "cost6, path6 = dijkstra(graph5,source,sink)"
   ]
  },
  {
   "cell_type": "code",
   "execution_count": 61,
   "id": "0e74e91e-4538-45fe-811f-0c4f30a5ffa2",
   "metadata": {},
   "outputs": [
    {
     "data": {
      "text/plain": [
       "26602.618749999983"
      ]
     },
     "execution_count": 61,
     "metadata": {},
     "output_type": "execute_result"
    }
   ],
   "source": [
    "cost6"
   ]
  },
  {
   "cell_type": "code",
   "execution_count": 62,
   "id": "eaa0c6ed-00e2-4200-a34c-c11b3217b53d",
   "metadata": {},
   "outputs": [
    {
     "name": "stdout",
     "output_type": "stream",
     "text": [
      "[2148, 2150, 788, 655, 654, 737, 2573, 2576, 1917, 2325, 2587, 2584, 10761, 3444, 2667, 2668, 2672, 2397, 2596, 2374, 2373, 2389, 2427, 2712, 11142, 12059, 2603, 2601, 3021, 3030, 3029, 3035, 3039, 3050, 3052, 1343, 2934, 2931, 3118, 3064, 3065, 5766, 5769, 6392, 6400, 6404, 6417, 6493, 6433, 6494, 6495, 6453, 6497, 6499, 6459, 6728, 6242, 6241, 8397, 8449, 8448, 8486, 8485, 8491, 8812, 8513, 8511, 8512, 10903, 8568, 8566, 8589, 8606, 8605, 8607, 8612, 8637, 8638, 8636, 8658, 8667, 8668, 8684, 8908, 8909, 8907, 8911, 8724, 8723, 8725, 8726, 8761, 8941, 9189, 8978, 8977, 8805, 10235, 10234, 10238, 10178, 10199, 10094, 10102, 10195, 10124, 10123]\n"
     ]
    }
   ],
   "source": [
    "print(path6,sep='')"
   ]
  },
  {
   "cell_type": "code",
   "execution_count": 63,
   "id": "bd183f01-345a-434c-8b2e-48759448add7",
   "metadata": {},
   "outputs": [
    {
     "data": {
      "text/plain": [
       "107"
      ]
     },
     "execution_count": 63,
     "metadata": {},
     "output_type": "execute_result"
    }
   ],
   "source": [
    "len(path6)"
   ]
  },
  {
   "cell_type": "code",
   "execution_count": 64,
   "id": "cd8265c7-3523-4780-9d51-8a5faae2afe6",
   "metadata": {},
   "outputs": [],
   "source": [
    "graph6, data = update_graph(path=path6, data=data, increment=1000)"
   ]
  },
  {
   "cell_type": "code",
   "execution_count": 65,
   "id": "34b076cf-cac2-498d-8841-3dfe4a0748ab",
   "metadata": {},
   "outputs": [
    {
     "data": {
      "text/plain": [
       "0       270277\n",
       "2000       165\n",
       "1000        59\n",
       "4000        38\n",
       "3000        25\n",
       "Name: flow, dtype: int64"
      ]
     },
     "execution_count": 65,
     "metadata": {},
     "output_type": "execute_result"
    }
   ],
   "source": [
    "data['flow'].value_counts()"
   ]
  },
  {
   "cell_type": "markdown",
   "id": "69cd4e47-9e4e-427f-a9d2-1a900259e6f1",
   "metadata": {},
   "source": [
    "### Step 7. Finding the shortest path for assinging the seventh 1000 vehicles"
   ]
  },
  {
   "cell_type": "code",
   "execution_count": 66,
   "id": "9d492cd7-6213-44cd-a6f4-f085fdf98833",
   "metadata": {},
   "outputs": [],
   "source": [
    "cost7, path7 = dijkstra(graph6,source,sink)"
   ]
  },
  {
   "cell_type": "code",
   "execution_count": 67,
   "id": "fb2e4a0b-bae5-4e43-8a12-d7e2403f7f4d",
   "metadata": {},
   "outputs": [
    {
     "data": {
      "text/plain": [
       "27976.050000000007"
      ]
     },
     "execution_count": 67,
     "metadata": {},
     "output_type": "execute_result"
    }
   ],
   "source": [
    "cost7"
   ]
  },
  {
   "cell_type": "code",
   "execution_count": 68,
   "id": "d1ce2546-d9e6-4bb4-8e3e-c7b537fee27e",
   "metadata": {},
   "outputs": [
    {
     "name": "stdout",
     "output_type": "stream",
     "text": [
      "[2148, 2150, 2328, 2339, 2338, 11103, 2576, 1917, 2325, 2587, 2584, 10761, 3444, 2667, 2668, 2672, 2397, 2596, 2374, 2373, 2389, 2427, 2712, 11142, 12059, 2603, 2601, 3021, 3030, 3029, 3035, 3039, 3050, 3052, 1343, 2934, 2931, 3118, 3064, 3065, 5766, 5769, 6392, 6400, 6404, 6417, 6493, 6433, 6494, 6495, 6453, 6497, 6499, 6459, 6728, 6242, 6241, 8397, 8449, 8448, 8486, 8485, 8491, 8812, 8565, 8564, 8568, 8566, 8589, 8606, 8605, 8588, 8612, 8637, 8638, 8636, 8658, 8667, 8668, 8684, 8908, 8909, 8907, 8911, 8724, 8723, 8725, 8726, 8761, 8941, 9189, 8978, 8977, 8805, 10235, 10234, 10238, 10178, 10199, 10094, 10102, 10195, 10124, 10123]\n"
     ]
    }
   ],
   "source": [
    "print(path7, sep='')"
   ]
  },
  {
   "cell_type": "code",
   "execution_count": 69,
   "id": "3f3340eb-c2a2-4830-8900-99ecc4fe90d4",
   "metadata": {},
   "outputs": [
    {
     "data": {
      "text/plain": [
       "104"
      ]
     },
     "execution_count": 69,
     "metadata": {},
     "output_type": "execute_result"
    }
   ],
   "source": [
    "len(path7)"
   ]
  },
  {
   "cell_type": "code",
   "execution_count": 70,
   "id": "b74c8ba3-3e1f-4868-8232-3fab28679b98",
   "metadata": {},
   "outputs": [],
   "source": [
    "graph7, data = update_graph(path=path7, data=data, increment=1000)"
   ]
  },
  {
   "cell_type": "code",
   "execution_count": 72,
   "id": "d5667764-3935-40ff-b04a-461029abe726",
   "metadata": {},
   "outputs": [
    {
     "data": {
      "text/plain": [
       "0       270267\n",
       "3000       118\n",
       "2000        72\n",
       "1000        69\n",
       "4000        38\n",
       "Name: flow, dtype: int64"
      ]
     },
     "execution_count": 72,
     "metadata": {},
     "output_type": "execute_result"
    }
   ],
   "source": [
    "data['flow'].value_counts()"
   ]
  },
  {
   "cell_type": "markdown",
   "id": "4d8f9e9c-acf9-4b04-b0d9-36e60bc1d3bf",
   "metadata": {},
   "source": [
    "### Step 8. Finding the shortest path for assinging the last 1000 vehicles"
   ]
  },
  {
   "cell_type": "code",
   "execution_count": 73,
   "id": "09608172-3e84-472d-b03e-c7645133d067",
   "metadata": {},
   "outputs": [],
   "source": [
    "cost8, path8 = dijkstra(graph7,source,sink)"
   ]
  },
  {
   "cell_type": "code",
   "execution_count": 74,
   "id": "a4900b7d-d6cc-4536-aab1-9b46795d5a42",
   "metadata": {},
   "outputs": [
    {
     "data": {
      "text/plain": [
       "28496.725"
      ]
     },
     "execution_count": 74,
     "metadata": {},
     "output_type": "execute_result"
    }
   ],
   "source": [
    "cost8"
   ]
  },
  {
   "cell_type": "code",
   "execution_count": 75,
   "id": "dc3ec3a5-9ede-4de4-baa5-289ba8a53195",
   "metadata": {},
   "outputs": [
    {
     "name": "stdout",
     "output_type": "stream",
     "text": [
      "[2148, 2150, 2328, 2339, 2340, 2660, 2659, 11104, 11105, 2247, 2248, 2169, 2002, 2254, 2176, 2252, 2302, 2430, 2615, 2616, 2450, 2657, 2621, 2618, 2619, 2528, 2526, 2527, 2645, 2642, 5068, 4188, 5076, 4244, 4243, 4242, 4245, 4264, 4271, 4277, 4276, 4281, 4286, 4295, 4294, 5196, 5270, 4353, 4352, 4350, 4359, 5203, 4403, 4401, 4434, 4494, 4493, 4500, 4534, 4561, 5347, 5349, 4809, 11046, 11212, 232, 5041, 7390, 7419, 7431, 7449, 7469, 7474, 8036, 7504, 7503, 7513, 7565, 7564, 8331, 8077, 8073, 7949, 7946, 7948, 7754, 7769, 7768, 1031, 515, 7788, 8678, 8679, 8922, 8724, 8723, 8725, 8726, 8761, 8941, 9189, 8978, 8977, 8805, 10235, 10234, 10238, 10178, 10199, 10094, 10102, 10195, 10124, 10123]\n"
     ]
    }
   ],
   "source": [
    "print(path8, sep='')"
   ]
  },
  {
   "cell_type": "code",
   "execution_count": 76,
   "id": "da0d18d5-2b81-4192-a689-bec7f34c6271",
   "metadata": {},
   "outputs": [
    {
     "data": {
      "text/plain": [
       "114"
      ]
     },
     "execution_count": 76,
     "metadata": {},
     "output_type": "execute_result"
    }
   ],
   "source": [
    "len(path8)"
   ]
  },
  {
   "cell_type": "code",
   "execution_count": 77,
   "id": "e8a1df6a-4d81-4354-9664-8d3d53daba5a",
   "metadata": {},
   "outputs": [],
   "source": [
    "graph8, data = update_graph(path=path8, data=data, increment=1000)"
   ]
  },
  {
   "cell_type": "code",
   "execution_count": 78,
   "id": "920626ad-3f82-4da4-9032-65801b53cb5c",
   "metadata": {},
   "outputs": [
    {
     "data": {
      "text/plain": [
       "0       270196\n",
       "1000       134\n",
       "3000       104\n",
       "2000        67\n",
       "4000        63\n",
       "Name: flow, dtype: int64"
      ]
     },
     "execution_count": 78,
     "metadata": {},
     "output_type": "execute_result"
    }
   ],
   "source": [
    "data['flow'].value_counts()"
   ]
  },
  {
   "cell_type": "code",
   "execution_count": 84,
   "id": "cb53d03e-25c0-40aa-919f-f6e0eee9928b",
   "metadata": {},
   "outputs": [],
   "source": [
    "import matplotlib.pyplot as plt"
   ]
  },
  {
   "cell_type": "code",
   "execution_count": 85,
   "id": "3d7f8f29-fc37-43f1-b96e-078f911ef269",
   "metadata": {},
   "outputs": [],
   "source": [
    "cost = [cost1,cost2,cost3,cost4,cost5,cost6,cost7,cost8]"
   ]
  },
  {
   "cell_type": "code",
   "execution_count": 90,
   "id": "20aeb81e-b30c-4bbf-800f-d6e68c27d0d6",
   "metadata": {},
   "outputs": [
    {
     "data": {
      "image/png": "[encoded data removed]",
      "text/plain": [
       "<Figure size 432x288 with 1 Axes>"
      ]
     },
     "metadata": {
      "needs_background": "light"
     },
     "output_type": "display_data"
    }
   ],
   "source": [
    "plt.plot(range(1,9), cost, marker='v', linestyle='--')\n",
    "plt.xlabel('Step i', fontsize=13)\n",
    "plt.ylabel('$S$', fontsize=13)\n",
    "plt.title('Shortest Path Travel Time at each Step', fontsize=14)\n",
    "plt.savefig('TT.png', dpi=1500)\n",
    "plt.show()"
   ]
  },
  {
   "cell_type": "code",
   "execution_count": 91,
   "id": "0a14c045-25f1-4389-9c06-ede53f4c51a1",
   "metadata": {},
   "outputs": [],
   "source": [
    "data.to_csv('data.csv')"
   ]
  },
  {
   "cell_type": "markdown",
   "id": "23cf2822-a12c-4b8d-b004-35717b870538",
   "metadata": {},
   "source": [
    "## Total travel time "
   ]
  },
  {
   "cell_type": "code",
   "execution_count": null,
   "id": "fba6fda9-732e-485c-92c1-f4f4c7f7f42c",
   "metadata": {},
   "outputs": [],
   "source": [
    "#travel time "
   ]
  },
  {
   "cell_type": "code",
   "execution_count": null,
   "id": "e14b41f2-0ba6-49c9-a645-5c2bc079dfb8",
   "metadata": {},
   "outputs": [],
   "source": [
    "data.loc[data['flow'] == 4000, 'TravelTime']"
   ]
  },
  {
   "cell_type": "code",
   "execution_count": 92,
   "id": "7ca30d86-7f7c-4a52-b7a8-3382ef42ec5b",
   "metadata": {},
   "outputs": [],
   "source": [
    "# modifying the update travel time function for computing travel time at capacity\n",
    "## a function which updates travel and it consider flow capacity on edges\n",
    "def update_tarvel_time(u, v, flow):\n",
    "    t_ff = int(network[(network['FromNodeId']==u) & (network['ToNodeId']==v)].TravelTime.values)\n",
    "#     if flow > 4000:\n",
    "#         updated_travel_time = float('infinity')\n",
    "#     else:\n",
    "    updated_travel_time = t_ff*(1 + 0.3*((flow/4000)**2))\n",
    "        \n",
    "    return updated_travel_time"
   ]
  },
  {
   "cell_type": "code",
   "execution_count": 93,
   "id": "beeedf69-3337-4546-9e3e-6e061c93b749",
   "metadata": {},
   "outputs": [
    {
     "data": {
      "text/html": [
       "<div>\n",
       "<style scoped>\n",
       "    .dataframe tbody tr th:only-of-type {\n",
       "        vertical-align: middle;\n",
       "    }\n",
       "\n",
       "    .dataframe tbody tr th {\n",
       "        vertical-align: top;\n",
       "    }\n",
       "\n",
       "    .dataframe thead th {\n",
       "        text-align: right;\n",
       "    }\n",
       "</style>\n",
       "<table border=\"1\" class=\"dataframe\">\n",
       "  <thead>\n",
       "    <tr style=\"text-align: right;\">\n",
       "      <th></th>\n",
       "      <th>FromNodeId</th>\n",
       "      <th>ToNodeId</th>\n",
       "      <th>TravelTime</th>\n",
       "      <th>flow</th>\n",
       "    </tr>\n",
       "  </thead>\n",
       "  <tbody>\n",
       "    <tr>\n",
       "      <th>0</th>\n",
       "      <td>0</td>\n",
       "      <td>1</td>\n",
       "      <td>376.0</td>\n",
       "      <td>0</td>\n",
       "    </tr>\n",
       "    <tr>\n",
       "      <th>1</th>\n",
       "      <td>0</td>\n",
       "      <td>2</td>\n",
       "      <td>486.0</td>\n",
       "      <td>0</td>\n",
       "    </tr>\n",
       "    <tr>\n",
       "      <th>2</th>\n",
       "      <td>0</td>\n",
       "      <td>29</td>\n",
       "      <td>401.0</td>\n",
       "      <td>0</td>\n",
       "    </tr>\n",
       "    <tr>\n",
       "      <th>3</th>\n",
       "      <td>1</td>\n",
       "      <td>0</td>\n",
       "      <td>298.0</td>\n",
       "      <td>0</td>\n",
       "    </tr>\n",
       "    <tr>\n",
       "      <th>4</th>\n",
       "      <td>1</td>\n",
       "      <td>23</td>\n",
       "      <td>249.0</td>\n",
       "      <td>0</td>\n",
       "    </tr>\n",
       "    <tr>\n",
       "      <th>...</th>\n",
       "      <td>...</td>\n",
       "      <td>...</td>\n",
       "      <td>...</td>\n",
       "      <td>...</td>\n",
       "    </tr>\n",
       "    <tr>\n",
       "      <th>270559</th>\n",
       "      <td>99999</td>\n",
       "      <td>100467</td>\n",
       "      <td>231.0</td>\n",
       "      <td>0</td>\n",
       "    </tr>\n",
       "    <tr>\n",
       "      <th>270560</th>\n",
       "      <td>99999</td>\n",
       "      <td>100468</td>\n",
       "      <td>513.0</td>\n",
       "      <td>0</td>\n",
       "    </tr>\n",
       "    <tr>\n",
       "      <th>270561</th>\n",
       "      <td>100026</td>\n",
       "      <td>99998</td>\n",
       "      <td>92.0</td>\n",
       "      <td>0</td>\n",
       "    </tr>\n",
       "    <tr>\n",
       "      <th>270562</th>\n",
       "      <td>100467</td>\n",
       "      <td>99999</td>\n",
       "      <td>515.0</td>\n",
       "      <td>0</td>\n",
       "    </tr>\n",
       "    <tr>\n",
       "      <th>270563</th>\n",
       "      <td>100468</td>\n",
       "      <td>99999</td>\n",
       "      <td>155.0</td>\n",
       "      <td>0</td>\n",
       "    </tr>\n",
       "  </tbody>\n",
       "</table>\n",
       "<p>270564 rows × 4 columns</p>\n",
       "</div>"
      ],
      "text/plain": [
       "        FromNodeId  ToNodeId  TravelTime  flow\n",
       "0                0         1       376.0     0\n",
       "1                0         2       486.0     0\n",
       "2                0        29       401.0     0\n",
       "3                1         0       298.0     0\n",
       "4                1        23       249.0     0\n",
       "...            ...       ...         ...   ...\n",
       "270559       99999    100467       231.0     0\n",
       "270560       99999    100468       513.0     0\n",
       "270561      100026     99998        92.0     0\n",
       "270562      100467     99999       515.0     0\n",
       "270563      100468     99999       155.0     0\n",
       "\n",
       "[270564 rows x 4 columns]"
      ]
     },
     "execution_count": 93,
     "metadata": {},
     "output_type": "execute_result"
    }
   ],
   "source": [
    "data"
   ]
  },
  {
   "cell_type": "code",
   "execution_count": 101,
   "id": "e5fae99b-5000-4337-af68-cbd5b415730b",
   "metadata": {},
   "outputs": [],
   "source": [
    "data['TravelTime'] = data[['FromNodeId', 'ToNodeId', 'flow']].apply(lambda x : update_tarvel_time(u=x[0], v=x[1], flow=x[2]), axis=1)"
   ]
  },
  {
   "cell_type": "code",
   "execution_count": null,
   "id": "3b98a265-a846-478b-a0e1-76f4a622d19b",
   "metadata": {},
   "outputs": [],
   "source": [
    "data.to_csv('revised_final_data.csv')"
   ]
  },
  {
   "cell_type": "code",
   "execution_count": 103,
   "id": "426bfa6b-ff65-490b-9e76-29e487fb0b02",
   "metadata": {},
   "outputs": [
    {
     "data": {
      "text/plain": [
       "54.00000     527\n",
       "312.00000    522\n",
       "23.00000     519\n",
       "335.00000    514\n",
       "226.00000    512\n",
       "            ... \n",
       "212.71250      1\n",
       "669.69375      1\n",
       "406.48125      1\n",
       "136.52500      1\n",
       "20.80000       1\n",
       "Name: TravelTime, Length: 925, dtype: int64"
      ]
     },
     "execution_count": 103,
     "metadata": {},
     "output_type": "execute_result"
    }
   ],
   "source": [
    "data['TravelTime'].value_counts()"
   ]
  },
  {
   "cell_type": "code",
   "execution_count": 105,
   "id": "0f319468-b0b2-46e1-a07a-7828894e172c",
   "metadata": {},
   "outputs": [],
   "source": [
    "data['total_travel_time'] = data['TravelTime']*data['flow']/3600"
   ]
  },
  {
   "cell_type": "code",
   "execution_count": 106,
   "id": "d81facdf-e904-4522-b6c8-83b8daef862d",
   "metadata": {},
   "outputs": [
    {
     "data": {
      "text/plain": [
       "63928.546875"
      ]
     },
     "execution_count": 106,
     "metadata": {},
     "output_type": "execute_result"
    }
   ],
   "source": [
    "data['total_travel_time'].sum()"
   ]
  },
  {
   "cell_type": "code",
   "execution_count": null,
   "id": "e7d49344-b520-454a-81b0-9d2e03ed2dc8",
   "metadata": {},
   "outputs": [],
   "source": []
  }
 ],
 "metadata": {
  "kernelspec": {
   "display_name": "Python 3 (ipykernel)",
   "language": "python",
   "name": "python3"
  },
  "language_info": {
   "codemirror_mode": {
    "name": "ipython",
    "version": 3
   },
   "file_extension": ".py",
   "mimetype": "text/x-python",
   "name": "python",
   "nbconvert_exporter": "python",
   "pygments_lexer": "ipython3",
   "version": "3.7.10"
  }
 },
 "nbformat": 4,
 "nbformat_minor": 5
}
